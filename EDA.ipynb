{
 "cells": [
  {
   "cell_type": "code",
   "execution_count": 4,
   "metadata": {},
   "outputs": [],
   "source": [
    "import pandas as pd\n",
    "import numpy as np\n",
    "import matplotlib.pyplot as plt\n",
    "import jieba\n",
    "import seaborn as sns"
   ]
  },
  {
   "cell_type": "markdown",
   "metadata": {},
   "source": [
    "## 数据聚合"
   ]
  },
  {
   "cell_type": "code",
   "execution_count": 5,
   "metadata": {},
   "outputs": [],
   "source": [
    "'''\n",
    "训练数据聚合\n",
    "'''\n",
    "def data_meger(query_path, reply_path, train:bool):\n",
    "    query = pd.read_csv(query_path, sep='\\t', header=None)\n",
    "    query.columns = ['id', 'query']\n",
    "    reply = pd.read_csv(reply_path, sep='\\t', header=None)\n",
    "    if train:\n",
    "        reply.columns = ['id', 'reply_sort','reply', 'label']\n",
    "    else:\n",
    "        reply.columns = ['id', 'reply_sort','reply']\n",
    "    new_data = pd.DataFrame()\n",
    "    new_data['id'] = reply['id']\n",
    "    new_data['query'] = [query.iloc[i]['query'] for i in reply['id']]\n",
    "    new_data['reply'] = reply['reply']\n",
    "    new_data['reply_sort'] = reply['reply_sort']\n",
    "    if train:\n",
    "        new_data['label'] = reply['label']\n",
    "    new_data['query_cut'] = new_data['query'].apply(lambda x: ' '.join(list(jieba.cut(str(x)))))\n",
    "    new_data['reply_cut'] = new_data['reply'].apply(lambda x: ' '.join(list(jieba.cut(str(x)))))\n",
    "    new_data = new_data.dropna()\n",
    "    return new_data"
   ]
  },
  {
   "cell_type": "code",
   "execution_count": 6,
   "metadata": {},
   "outputs": [
    {
     "name": "stderr",
     "output_type": "stream",
     "text": [
      "Building prefix dict from the default dictionary ...\n",
      "Dumping model to file cache /var/folders/rf/hq7456ks1lzbgdqbpk9nl69w0000gn/T/jieba.cache\n",
      "Loading model cost 0.897 seconds.\n",
      "Prefix dict has been built successfully.\n"
     ]
    }
   ],
   "source": [
    "train_data = data_meger('./data/train.query.tsv', './data/train.reply.tsv', train=True)"
   ]
  },
  {
   "cell_type": "code",
   "execution_count": 7,
   "metadata": {},
   "outputs": [],
   "source": [
    "test_data = data_meger('./data/test.query.tsv', './data/test.reply.tsv', train=False)"
   ]
  },
  {
   "cell_type": "code",
   "execution_count": 8,
   "metadata": {},
   "outputs": [
    {
     "data": {
      "text/html": [
       "<div>\n",
       "<style scoped>\n",
       "    .dataframe tbody tr th:only-of-type {\n",
       "        vertical-align: middle;\n",
       "    }\n",
       "\n",
       "    .dataframe tbody tr th {\n",
       "        vertical-align: top;\n",
       "    }\n",
       "\n",
       "    .dataframe thead th {\n",
       "        text-align: right;\n",
       "    }\n",
       "</style>\n",
       "<table border=\"1\" class=\"dataframe\">\n",
       "  <thead>\n",
       "    <tr style=\"text-align: right;\">\n",
       "      <th></th>\n",
       "      <th>id</th>\n",
       "      <th>query</th>\n",
       "      <th>reply</th>\n",
       "      <th>reply_sort</th>\n",
       "      <th>label</th>\n",
       "      <th>query_cut</th>\n",
       "      <th>reply_cut</th>\n",
       "    </tr>\n",
       "  </thead>\n",
       "  <tbody>\n",
       "    <tr>\n",
       "      <th>0</th>\n",
       "      <td>0</td>\n",
       "      <td>采荷一小是分校吧</td>\n",
       "      <td>杭州市采荷第一小学钱江苑校区，杭州市钱江新城实验学校。</td>\n",
       "      <td>0</td>\n",
       "      <td>1</td>\n",
       "      <td>采荷 一小 是 分校 吧</td>\n",
       "      <td>杭州市 采荷 第一 小学 钱江苑 校区 ， 杭州市 钱江 新城 实验学校 。</td>\n",
       "    </tr>\n",
       "    <tr>\n",
       "      <th>1</th>\n",
       "      <td>0</td>\n",
       "      <td>采荷一小是分校吧</td>\n",
       "      <td>是的</td>\n",
       "      <td>1</td>\n",
       "      <td>0</td>\n",
       "      <td>采荷 一小 是 分校 吧</td>\n",
       "      <td>是 的</td>\n",
       "    </tr>\n",
       "    <tr>\n",
       "      <th>2</th>\n",
       "      <td>0</td>\n",
       "      <td>采荷一小是分校吧</td>\n",
       "      <td>这是5楼</td>\n",
       "      <td>2</td>\n",
       "      <td>0</td>\n",
       "      <td>采荷 一小 是 分校 吧</td>\n",
       "      <td>这是 5 楼</td>\n",
       "    </tr>\n",
       "    <tr>\n",
       "      <th>3</th>\n",
       "      <td>1</td>\n",
       "      <td>毛坯吗？</td>\n",
       "      <td>因为公积金贷款贷的少</td>\n",
       "      <td>0</td>\n",
       "      <td>0</td>\n",
       "      <td>毛坯 吗 ？</td>\n",
       "      <td>因为 公积金 贷款 贷 的 少</td>\n",
       "    </tr>\n",
       "    <tr>\n",
       "      <th>4</th>\n",
       "      <td>1</td>\n",
       "      <td>毛坯吗？</td>\n",
       "      <td>是呢</td>\n",
       "      <td>1</td>\n",
       "      <td>0</td>\n",
       "      <td>毛坯 吗 ？</td>\n",
       "      <td>是 呢</td>\n",
       "    </tr>\n",
       "  </tbody>\n",
       "</table>\n",
       "</div>"
      ],
      "text/plain": [
       "   id     query                        reply  reply_sort  label     query_cut  \\\n",
       "0   0  采荷一小是分校吧  杭州市采荷第一小学钱江苑校区，杭州市钱江新城实验学校。           0      1  采荷 一小 是 分校 吧   \n",
       "1   0  采荷一小是分校吧                           是的           1      0  采荷 一小 是 分校 吧   \n",
       "2   0  采荷一小是分校吧                         这是5楼           2      0  采荷 一小 是 分校 吧   \n",
       "3   1      毛坯吗？                   因为公积金贷款贷的少           0      0        毛坯 吗 ？   \n",
       "4   1      毛坯吗？                           是呢           1      0        毛坯 吗 ？   \n",
       "\n",
       "                                reply_cut  \n",
       "0  杭州市 采荷 第一 小学 钱江苑 校区 ， 杭州市 钱江 新城 实验学校 。  \n",
       "1                                     是 的  \n",
       "2                                  这是 5 楼  \n",
       "3                         因为 公积金 贷款 贷 的 少  \n",
       "4                                     是 呢  "
      ]
     },
     "execution_count": 8,
     "metadata": {},
     "output_type": "execute_result"
    }
   ],
   "source": [
    "train_data.head()"
   ]
  },
  {
   "cell_type": "code",
   "execution_count": 9,
   "metadata": {},
   "outputs": [
    {
     "data": {
      "text/html": [
       "<div>\n",
       "<style scoped>\n",
       "    .dataframe tbody tr th:only-of-type {\n",
       "        vertical-align: middle;\n",
       "    }\n",
       "\n",
       "    .dataframe tbody tr th {\n",
       "        vertical-align: top;\n",
       "    }\n",
       "\n",
       "    .dataframe thead th {\n",
       "        text-align: right;\n",
       "    }\n",
       "</style>\n",
       "<table border=\"1\" class=\"dataframe\">\n",
       "  <thead>\n",
       "    <tr style=\"text-align: right;\">\n",
       "      <th></th>\n",
       "      <th>id</th>\n",
       "      <th>query</th>\n",
       "      <th>reply</th>\n",
       "      <th>reply_sort</th>\n",
       "      <th>query_cut</th>\n",
       "      <th>reply_cut</th>\n",
       "    </tr>\n",
       "  </thead>\n",
       "  <tbody>\n",
       "    <tr>\n",
       "      <th>0</th>\n",
       "      <td>0</td>\n",
       "      <td>东区西区？什么时候下证？</td>\n",
       "      <td>我在给你发套</td>\n",
       "      <td>0</td>\n",
       "      <td>东区 西区 ？ 什么 时候 下证 ？</td>\n",
       "      <td>我 在 给 你 发套</td>\n",
       "    </tr>\n",
       "    <tr>\n",
       "      <th>1</th>\n",
       "      <td>0</td>\n",
       "      <td>东区西区？什么时候下证？</td>\n",
       "      <td>您看下我发的这几套</td>\n",
       "      <td>1</td>\n",
       "      <td>东区 西区 ？ 什么 时候 下证 ？</td>\n",
       "      <td>您 看 下 我 发 的 这 几套</td>\n",
       "    </tr>\n",
       "    <tr>\n",
       "      <th>2</th>\n",
       "      <td>0</td>\n",
       "      <td>东区西区？什么时候下证？</td>\n",
       "      <td>这两套也是金源花园的</td>\n",
       "      <td>2</td>\n",
       "      <td>东区 西区 ？ 什么 时候 下证 ？</td>\n",
       "      <td>这 两套 也 是 金源 花园 的</td>\n",
       "    </tr>\n",
       "    <tr>\n",
       "      <th>3</th>\n",
       "      <td>0</td>\n",
       "      <td>东区西区？什么时候下证？</td>\n",
       "      <td>价钱低</td>\n",
       "      <td>3</td>\n",
       "      <td>东区 西区 ？ 什么 时候 下证 ？</td>\n",
       "      <td>价钱 低</td>\n",
       "    </tr>\n",
       "    <tr>\n",
       "      <th>4</th>\n",
       "      <td>0</td>\n",
       "      <td>东区西区？什么时候下证？</td>\n",
       "      <td>便宜的房子，一般都是顶楼</td>\n",
       "      <td>4</td>\n",
       "      <td>东区 西区 ？ 什么 时候 下证 ？</td>\n",
       "      <td>便宜 的 房子 ， 一般 都 是 顶楼</td>\n",
       "    </tr>\n",
       "  </tbody>\n",
       "</table>\n",
       "</div>"
      ],
      "text/plain": [
       "   id         query         reply  reply_sort           query_cut  \\\n",
       "0   0  东区西区？什么时候下证？        我在给你发套           0  东区 西区 ？ 什么 时候 下证 ？   \n",
       "1   0  东区西区？什么时候下证？     您看下我发的这几套           1  东区 西区 ？ 什么 时候 下证 ？   \n",
       "2   0  东区西区？什么时候下证？    这两套也是金源花园的           2  东区 西区 ？ 什么 时候 下证 ？   \n",
       "3   0  东区西区？什么时候下证？           价钱低           3  东区 西区 ？ 什么 时候 下证 ？   \n",
       "4   0  东区西区？什么时候下证？  便宜的房子，一般都是顶楼           4  东区 西区 ？ 什么 时候 下证 ？   \n",
       "\n",
       "             reply_cut  \n",
       "0           我 在 给 你 发套  \n",
       "1     您 看 下 我 发 的 这 几套  \n",
       "2     这 两套 也 是 金源 花园 的  \n",
       "3                 价钱 低  \n",
       "4  便宜 的 房子 ， 一般 都 是 顶楼  "
      ]
     },
     "execution_count": 9,
     "metadata": {},
     "output_type": "execute_result"
    }
   ],
   "source": [
    "test_data.head()"
   ]
  },
  {
   "cell_type": "code",
   "execution_count": 10,
   "metadata": {},
   "outputs": [],
   "source": [
    "train_data.to_csv('./data/train.csv', index=False)\n",
    "test_data.to_csv('./data/test.csv', index=False)"
   ]
  },
  {
   "cell_type": "markdown",
   "metadata": {},
   "source": [
    "## 数据分析"
   ]
  },
  {
   "cell_type": "code",
   "execution_count": 34,
   "metadata": {},
   "outputs": [
    {
     "data": {
      "image/png": "[encoded data removed]",
      "text/plain": [
       "<Figure size 432x288 with 1 Axes>"
      ]
     },
     "metadata": {
      "needs_background": "light"
     },
     "output_type": "display_data"
    }
   ],
   "source": [
    "ds = train_data['label'].value_counts()\n",
    "ds.plot.bar()\n",
    "plt.title('label distrbution')\n",
    "plt.show()"
   ]
  },
  {
   "cell_type": "code",
   "execution_count": 36,
   "metadata": {},
   "outputs": [
    {
     "name": "stdout",
     "output_type": "stream",
     "text": [
      "问题数: 4230, 答案数: 16838\n"
     ]
    }
   ],
   "source": [
    "print('问题数: {}, 答案数: {}'.format(len(train_data['query'].unique()), len(train_data['reply'].unique())))"
   ]
  },
  {
   "cell_type": "code",
   "execution_count": 57,
   "metadata": {},
   "outputs": [],
   "source": [
    "train_data['query_cut'] = train_data['query'].apply(lambda x: ' '.join(list(jieba.cut(str(x)))))\n",
    "train_data['reply_cut'] = train_data['reply'].apply(lambda x: ' '.join(list(jieba.cut(str(x)))))"
   ]
  },
  {
   "cell_type": "code",
   "execution_count": 14,
   "metadata": {},
   "outputs": [
    {
     "data": {
      "text/html": [
       "<div>\n",
       "<style scoped>\n",
       "    .dataframe tbody tr th:only-of-type {\n",
       "        vertical-align: middle;\n",
       "    }\n",
       "\n",
       "    .dataframe tbody tr th {\n",
       "        vertical-align: top;\n",
       "    }\n",
       "\n",
       "    .dataframe thead th {\n",
       "        text-align: right;\n",
       "    }\n",
       "</style>\n",
       "<table border=\"1\" class=\"dataframe\">\n",
       "  <thead>\n",
       "    <tr style=\"text-align: right;\">\n",
       "      <th></th>\n",
       "      <th>query</th>\n",
       "      <th>reply</th>\n",
       "      <th>reply_sort</th>\n",
       "      <th>label</th>\n",
       "      <th>query_cut</th>\n",
       "      <th>reply_cut</th>\n",
       "    </tr>\n",
       "  </thead>\n",
       "  <tbody>\n",
       "    <tr>\n",
       "      <th>0</th>\n",
       "      <td>采荷一小是分校吧</td>\n",
       "      <td>杭州市采荷第一小学钱江苑校区，杭州市钱江新城实验学校。</td>\n",
       "      <td>0</td>\n",
       "      <td>1</td>\n",
       "      <td>采荷 一小 是 分校 吧</td>\n",
       "      <td>杭州市 采荷 第一 小学 钱江苑 校区 ， 杭州市 钱江 新城 实验学校 。</td>\n",
       "    </tr>\n",
       "    <tr>\n",
       "      <th>1</th>\n",
       "      <td>采荷一小是分校吧</td>\n",
       "      <td>是的</td>\n",
       "      <td>1</td>\n",
       "      <td>0</td>\n",
       "      <td>采荷 一小 是 分校 吧</td>\n",
       "      <td>是 的</td>\n",
       "    </tr>\n",
       "    <tr>\n",
       "      <th>2</th>\n",
       "      <td>采荷一小是分校吧</td>\n",
       "      <td>这是5楼</td>\n",
       "      <td>2</td>\n",
       "      <td>0</td>\n",
       "      <td>采荷 一小 是 分校 吧</td>\n",
       "      <td>这是 5 楼</td>\n",
       "    </tr>\n",
       "    <tr>\n",
       "      <th>3</th>\n",
       "      <td>毛坯吗？</td>\n",
       "      <td>因为公积金贷款贷的少</td>\n",
       "      <td>0</td>\n",
       "      <td>0</td>\n",
       "      <td>毛坯 吗 ？</td>\n",
       "      <td>因为 公积金 贷款 贷 的 少</td>\n",
       "    </tr>\n",
       "    <tr>\n",
       "      <th>4</th>\n",
       "      <td>毛坯吗？</td>\n",
       "      <td>是呢</td>\n",
       "      <td>1</td>\n",
       "      <td>0</td>\n",
       "      <td>毛坯 吗 ？</td>\n",
       "      <td>是 呢</td>\n",
       "    </tr>\n",
       "  </tbody>\n",
       "</table>\n",
       "</div>"
      ],
      "text/plain": [
       "      query                        reply  reply_sort  label     query_cut  \\\n",
       "0  采荷一小是分校吧  杭州市采荷第一小学钱江苑校区，杭州市钱江新城实验学校。           0      1  采荷 一小 是 分校 吧   \n",
       "1  采荷一小是分校吧                           是的           1      0  采荷 一小 是 分校 吧   \n",
       "2  采荷一小是分校吧                         这是5楼           2      0  采荷 一小 是 分校 吧   \n",
       "3      毛坯吗？                   因为公积金贷款贷的少           0      0        毛坯 吗 ？   \n",
       "4      毛坯吗？                           是呢           1      0        毛坯 吗 ？   \n",
       "\n",
       "                                reply_cut  \n",
       "0  杭州市 采荷 第一 小学 钱江苑 校区 ， 杭州市 钱江 新城 实验学校 。  \n",
       "1                                     是 的  \n",
       "2                                  这是 5 楼  \n",
       "3                         因为 公积金 贷款 贷 的 少  \n",
       "4                                     是 呢  "
      ]
     },
     "execution_count": 14,
     "metadata": {},
     "output_type": "execute_result"
    }
   ],
   "source": [
    "train_data.head()"
   ]
  },
  {
   "cell_type": "code",
   "execution_count": 61,
   "metadata": {},
   "outputs": [
    {
     "data": {
      "text/plain": [
       "4316.8"
      ]
     },
     "execution_count": 61,
     "metadata": {},
     "output_type": "execute_result"
    }
   ],
   "source": [
    "21584 * 0.2"
   ]
  },
  {
   "cell_type": "code",
   "execution_count": 33,
   "metadata": {},
   "outputs": [],
   "source": [
    "train_data['query_len'] = train_data['query'].apply(lambda x:len(x))\n",
    "train_data['reply_len'] = train_data['reply'].apply(lambda x:len(x))"
   ]
  },
  {
   "cell_type": "code",
   "execution_count": 34,
   "metadata": {},
   "outputs": [
    {
     "name": "stdout",
     "output_type": "stream",
     "text": [
      "count    21584.000000\n",
      "mean         9.150806\n",
      "std          5.045822\n",
      "min          2.000000\n",
      "25%          6.000000\n",
      "50%          8.000000\n",
      "75%         12.000000\n",
      "max         65.000000\n",
      "Name: query_len, dtype: float64 count    21584.000000\n",
      "mean        10.410350\n",
      "std         10.537412\n",
      "min          1.000000\n",
      "25%          4.000000\n",
      "50%          8.000000\n",
      "75%         13.000000\n",
      "max        200.000000\n",
      "Name: reply_len, dtype: float64\n"
     ]
    }
   ],
   "source": [
    "print(train_data['query_len'].describe(), train_data['reply_len'].describe())"
   ]
  },
  {
   "cell_type": "code",
   "execution_count": 35,
   "metadata": {},
   "outputs": [
    {
     "data": {
      "image/png": "[encoded data removed]",
      "text/plain": [
       "<Figure size 432x288 with 1 Axes>"
      ]
     },
     "metadata": {
      "needs_background": "light"
     },
     "output_type": "display_data"
    }
   ],
   "source": [
    "ds = train_data['query_len']\n",
    "g = sns.distplot(ds)\n",
    "plt.title('query length distribution')\n",
    "plt.show()"
   ]
  },
  {
   "cell_type": "code",
   "execution_count": 36,
   "metadata": {},
   "outputs": [
    {
     "data": {
      "image/png": "[encoded data removed]",
      "text/plain": [
       "<Figure size 432x288 with 1 Axes>"
      ]
     },
     "metadata": {
      "needs_background": "light"
     },
     "output_type": "display_data"
    }
   ],
   "source": [
    "ds = train_data['reply_len']\n",
    "g = sns.distplot(ds)\n",
    "plt.title('reply length distribution')\n",
    "plt.show()"
   ]
  },
  {
   "cell_type": "code",
   "execution_count": 25,
   "metadata": {},
   "outputs": [
    {
     "data": {
      "text/plain": [
       "1    6000\n",
       "0    6000\n",
       "2    5684\n",
       "3    2071\n",
       "4    1830\n",
       "Name: reply_sort, dtype: int64"
      ]
     },
     "execution_count": 25,
     "metadata": {},
     "output_type": "execute_result"
    }
   ],
   "source": [
    "train_data['reply_sort'].value_counts()"
   ]
  },
  {
   "cell_type": "code",
   "execution_count": 29,
   "metadata": {},
   "outputs": [
    {
     "data": {
      "text/plain": [
       "query         0\n",
       "reply         1\n",
       "reply_sort    0\n",
       "label         0\n",
       "query_cut     0\n",
       "reply_cut     0\n",
       "query_len     0\n",
       "reply_len     0\n",
       "dtype: int64"
      ]
     },
     "execution_count": 29,
     "metadata": {},
     "output_type": "execute_result"
    }
   ],
   "source": [
    "train_data.isnull().sum()"
   ]
  },
  {
   "cell_type": "markdown",
   "metadata": {},
   "source": [
    "## 测试集分析"
   ]
  },
  {
   "cell_type": "code",
   "execution_count": 37,
   "metadata": {},
   "outputs": [],
   "source": [
    "test_data['query_len'] = test_data['query_cut'].apply(lambda x:len(x))\n",
    "test_data['reply_len'] = test_data['reply_cut'].apply(lambda x:len(x))"
   ]
  },
  {
   "cell_type": "code",
   "execution_count": 38,
   "metadata": {},
   "outputs": [
    {
     "data": {
      "image/png": "[encoded data removed]",
      "text/plain": [
       "<Figure size 432x288 with 1 Axes>"
      ]
     },
     "metadata": {
      "needs_background": "light"
     },
     "output_type": "display_data"
    }
   ],
   "source": [
    "ds = test_data['query_len']\n",
    "g = sns.distplot(ds)\n",
    "plt.title('query length distribution')\n",
    "plt.show()"
   ]
  },
  {
   "cell_type": "code",
   "execution_count": 39,
   "metadata": {},
   "outputs": [
    {
     "data": {
      "image/png": "[encoded data removed]",
      "text/plain": [
       "<Figure size 432x288 with 1 Axes>"
      ]
     },
     "metadata": {
      "needs_background": "light"
     },
     "output_type": "display_data"
    }
   ],
   "source": [
    "ds = test_data['reply_len']\n",
    "g = sns.distplot(ds)\n",
    "plt.title('reply length distribution')\n",
    "plt.show()"
   ]
  },
  {
   "cell_type": "code",
   "execution_count": 43,
   "metadata": {},
   "outputs": [
    {
     "data": {
      "text/plain": [
       "(count    53757.000000\n",
       " mean        13.857005\n",
       " std          9.770729\n",
       " min          2.000000\n",
       " 25%          8.000000\n",
       " 50%         12.000000\n",
       " 75%         18.000000\n",
       " max        374.000000\n",
       " Name: query_len, dtype: float64, count    53757.000000\n",
       " mean        16.546273\n",
       " std         17.405339\n",
       " min          1.000000\n",
       " 25%          6.000000\n",
       " 50%         12.000000\n",
       " 75%         21.000000\n",
       " max        367.000000\n",
       " Name: reply_len, dtype: float64)"
      ]
     },
     "execution_count": 43,
     "metadata": {},
     "output_type": "execute_result"
    }
   ],
   "source": [
    "test_data['query_len'].describe(), test_data['reply_len'].describe()"
   ]
  }
 ],
 "metadata": {
  "kernelspec": {
   "display_name": "Python 3",
   "language": "python",
   "name": "python3"
  },
  "language_info": {
   "codemirror_mode": {
    "name": "ipython",
    "version": 3
   },
   "file_extension": ".py",
   "mimetype": "text/x-python",
   "name": "python",
   "nbconvert_exporter": "python",
   "pygments_lexer": "ipython3",
   "version": "3.6.8"
  }
 },
 "nbformat": 4,
 "nbformat_minor": 4
}
